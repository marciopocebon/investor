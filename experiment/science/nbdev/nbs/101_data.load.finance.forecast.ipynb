{
 "cells": [
  {
   "cell_type": "code",
   "execution_count": 31,
   "metadata": {},
   "outputs": [],
   "source": [
    "# default_exp data.finance.forecast"
   ]
  },
  {
   "cell_type": "code",
   "execution_count": 32,
   "metadata": {},
   "outputs": [],
   "source": [
    "from IPython.core.interactiveshell import InteractiveShell\n",
    "InteractiveShell.ast_node_interactivity = \"all\""
   ]
  },
  {
   "cell_type": "code",
   "execution_count": 33,
   "metadata": {},
   "outputs": [
    {
     "name": "stdout",
     "output_type": "stream",
     "text": [
      "The autoreload extension is already loaded. To reload it, use:\n",
      "  %reload_ext autoreload\n"
     ]
    }
   ],
   "source": [
    "%load_ext autoreload\n",
    "%autoreload 2"
   ]
  },
  {
   "cell_type": "code",
   "execution_count": 34,
   "metadata": {},
   "outputs": [],
   "source": [
    "from libs import is_lib_exists"
   ]
  },
  {
   "cell_type": "code",
   "execution_count": 35,
   "metadata": {},
   "outputs": [],
   "source": [
    "required_libs = [ (\"numpy\", \"numpy\"),\n",
    "                  (\"pandas\", \"pandas\"),\n",
    "                  (\"seaborn\", \"seaborn\"),\n",
    "                  (\"matplotlib\", \"matplotlib\"),\n",
    "                  (\"investpy\", \"investpy\"),\n",
    "                  (\"dateutil\", \"python-dateutil\"),\n",
    "                  (\"fbprophet\", \"fbprophet\"),\n",
    "                ]"
   ]
  },
  {
   "cell_type": "code",
   "execution_count": 36,
   "metadata": {},
   "outputs": [
    {
     "name": "stdout",
     "output_type": "stream",
     "text": [
      "numpy exists\n",
      "pandas exists\n",
      "seaborn exists\n",
      "matplotlib exists\n",
      "investpy exists\n",
      "python-dateutil exists\n",
      "fbprophet exists\n"
     ]
    }
   ],
   "source": [
    "for (clz,lib) in required_libs:\n",
    "    if not is_lib_exists(clz):\n",
    "        print(f\"Installing {lib}\")\n",
    "        !pip install -qq {lib}\n",
    "    else:\n",
    "        print(f\"{lib} exists\")"
   ]
  },
  {
   "cell_type": "code",
   "execution_count": 37,
   "metadata": {},
   "outputs": [],
   "source": [
    "#export\n",
    "import numpy as np\n",
    "import pandas as pd\n",
    "import seaborn as sns\n",
    "import matplotlib.pyplot as plt\n",
    "import investpy\n",
    "from pathlib import Path\n",
    "from dateutil.relativedelta import *\n",
    "from datetime import *\n",
    "import calendar\n",
    "import traceback"
   ]
  },
  {
   "cell_type": "code",
   "execution_count": 38,
   "metadata": {},
   "outputs": [],
   "source": [
    "%matplotlib inline"
   ]
  },
  {
   "cell_type": "code",
   "execution_count": 51,
   "metadata": {},
   "outputs": [],
   "source": [
    "#%quickref\n",
    "#%magic\n",
    "#%env"
   ]
  },
  {
   "cell_type": "code",
   "execution_count": 40,
   "metadata": {},
   "outputs": [],
   "source": [
    "from IPython.display import display, Image"
   ]
  },
  {
   "cell_type": "markdown",
   "metadata": {},
   "source": [
    "# Finance Data\n",
    "\n",
    "> Functionality to gather finance data.\n",
    "\n",
    "The classes here provide bases classes used to gather finance data for model training."
   ]
  },
  {
   "cell_type": "code",
   "execution_count": 42,
   "metadata": {},
   "outputs": [],
   "source": [
    "#hide\n",
    "from nbdev.showdoc import *"
   ]
  },
  {
   "cell_type": "code",
   "execution_count": 43,
   "metadata": {},
   "outputs": [],
   "source": [
    "# Dataset path\n",
    "DATASET_PATH = Path(\"../../data\")  \n",
    "\n",
    "# Country to analyze\n",
    "COUNTRY = \"malaysia\"\n",
    "\n",
    "# Dataset\n",
    "DATASET = DATASET_PATH/f\"ftse_klse_investing.csv\"\n",
    "\n",
    "# Stocks summary\n",
    "DATASET_STOCKS_SUMMARY = DATASET_PATH/f\"stocks_summary.csv\""
   ]
  },
  {
   "cell_type": "markdown",
   "metadata": {},
   "source": [
    "## FTSE KLSE"
   ]
  },
  {
   "cell_type": "code",
   "execution_count": 44,
   "metadata": {},
   "outputs": [
    {
     "name": "stdout",
     "output_type": "stream",
     "text": [
      "<class 'pandas.core.frame.DataFrame'>\n",
      "RangeIndex: 929 entries, 0 to 928\n",
      "Data columns (total 6 columns):\n",
      " #   Column     Non-Null Count  Dtype \n",
      "---  ------     --------------  ----- \n",
      " 0   country    929 non-null    object\n",
      " 1   name       929 non-null    object\n",
      " 2   full_name  929 non-null    object\n",
      " 3   isin       929 non-null    object\n",
      " 4   currency   929 non-null    object\n",
      " 5   symbol     929 non-null    object\n",
      "dtypes: object(6)\n",
      "memory usage: 43.7+ KB\n"
     ]
    }
   ],
   "source": [
    "# Retrieve stock components\n",
    "dataset = investpy.get_stocks(country=COUNTRY)\n",
    "dataset.info()"
   ]
  },
  {
   "cell_type": "code",
   "execution_count": 45,
   "metadata": {},
   "outputs": [],
   "source": [
    "# Save the dataset\n",
    "dataset.to_csv(DATASET, index=False)\n",
    "\n",
    "# dataset = pd.read_csv(DATASET, header=0, sep=',', quotechar='\"')"
   ]
  },
  {
   "cell_type": "code",
   "execution_count": 52,
   "metadata": {},
   "outputs": [
    {
     "name": "stdout",
     "output_type": "stream",
     "text": [
      "Number of stock - 929\n"
     ]
    },
    {
     "data": {
      "text/html": [
       "<div>\n",
       "<style scoped>\n",
       "    .dataframe tbody tr th:only-of-type {\n",
       "        vertical-align: middle;\n",
       "    }\n",
       "\n",
       "    .dataframe tbody tr th {\n",
       "        vertical-align: top;\n",
       "    }\n",
       "\n",
       "    .dataframe thead th {\n",
       "        text-align: right;\n",
       "    }\n",
       "</style>\n",
       "<table border=\"1\" class=\"dataframe\">\n",
       "  <thead>\n",
       "    <tr style=\"text-align: right;\">\n",
       "      <th></th>\n",
       "      <th>country</th>\n",
       "      <th>name</th>\n",
       "      <th>full_name</th>\n",
       "      <th>isin</th>\n",
       "      <th>currency</th>\n",
       "      <th>symbol</th>\n",
       "    </tr>\n",
       "  </thead>\n",
       "  <tbody>\n",
       "    <tr>\n",
       "      <th>0</th>\n",
       "      <td>malaysia</td>\n",
       "      <td>Media Chinese Int</td>\n",
       "      <td>Media Chinese International Ltd</td>\n",
       "      <td>BMG5959D1048</td>\n",
       "      <td>MYR</td>\n",
       "      <td>MDCH</td>\n",
       "    </tr>\n",
       "    <tr>\n",
       "      <th>1</th>\n",
       "      <td>malaysia</td>\n",
       "      <td>AMMB</td>\n",
       "      <td>AMMB Holdings Bhd</td>\n",
       "      <td>MYL1015OO006</td>\n",
       "      <td>MYR</td>\n",
       "      <td>AMMB</td>\n",
       "    </tr>\n",
       "    <tr>\n",
       "      <th>2</th>\n",
       "      <td>malaysia</td>\n",
       "      <td>CIMB Group</td>\n",
       "      <td>CIMB Group Holdings Bhd</td>\n",
       "      <td>MYL1023OO000</td>\n",
       "      <td>MYR</td>\n",
       "      <td>CIMB</td>\n",
       "    </tr>\n",
       "  </tbody>\n",
       "</table>\n",
       "</div>"
      ],
      "text/plain": [
       "    country               name                        full_name          isin  \\\n",
       "0  malaysia  Media Chinese Int  Media Chinese International Ltd  BMG5959D1048   \n",
       "1  malaysia               AMMB                AMMB Holdings Bhd  MYL1015OO006   \n",
       "2  malaysia         CIMB Group          CIMB Group Holdings Bhd  MYL1023OO000   \n",
       "\n",
       "  currency symbol  \n",
       "0      MYR   MDCH  \n",
       "1      MYR   AMMB  \n",
       "2      MYR   CIMB  "
      ]
     },
     "metadata": {},
     "output_type": "display_data"
    }
   ],
   "source": [
    "print(f\"Number of stock - {len(dataset)}\")\n",
    "display(dataset.head(3))"
   ]
  },
  {
   "cell_type": "code",
   "execution_count": 67,
   "metadata": {},
   "outputs": [],
   "source": [
    "TODAY = date.today()\n",
    "START_DATE = datetime.strptime('1-3-2020', '%d-%m-%Y')"
   ]
  },
  {
   "cell_type": "code",
   "execution_count": 57,
   "metadata": {},
   "outputs": [
    {
     "name": "stdout",
     "output_type": "stream",
     "text": [
      "             Open   High   Low  Close  Volume Currency\n",
      "Date                                                  \n",
      "2020-10-02  0.150  0.155  0.15  0.155  471400      MYR\n",
      "2020-10-05  0.155  0.155  0.15  0.150  193700      MYR\n",
      "2020-10-06  0.150  0.150  0.15  0.150  595300      MYR\n",
      "2020-10-07  0.150  0.150  0.15  0.150  100000      MYR\n",
      "2020-10-09  0.155  0.155  0.15  0.150  148500      MYR\n"
     ]
    }
   ],
   "source": [
    "df = investpy.get_stock_historical_data(stock='MDCH',\n",
    "                                        country=COUNTRY,\n",
    "                                        from_date='01/01/2020',\n",
    "                                        to_date='11/11/2020')\n",
    "print(df.tail())"
   ]
  },
  {
   "cell_type": "code",
   "execution_count": null,
   "metadata": {},
   "outputs": [],
   "source": []
  }
 ],
 "metadata": {
  "kernelspec": {
   "display_name": "Python 3",
   "language": "python",
   "name": "python3"
  },
  "language_info": {
   "codemirror_mode": {
    "name": "ipython",
    "version": 3
   },
   "file_extension": ".py",
   "mimetype": "text/x-python",
   "name": "python",
   "nbconvert_exporter": "python",
   "pygments_lexer": "ipython3",
   "version": "3.8.3"
  },
  "toc-autonumbering": false,
  "toc-showcode": false,
  "toc-showmarkdowntxt": false,
  "toc-showtags": false
 },
 "nbformat": 4,
 "nbformat_minor": 4
}
