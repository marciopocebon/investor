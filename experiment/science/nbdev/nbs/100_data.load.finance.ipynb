{
 "cells": [
  {
   "cell_type": "code",
   "execution_count": 1,
   "metadata": {},
   "outputs": [],
   "source": [
    "# default_exp data.finance"
   ]
  },
  {
   "cell_type": "code",
   "execution_count": 2,
   "metadata": {},
   "outputs": [],
   "source": [
    "%load_ext autoreload\n",
    "%autoreload 2"
   ]
  },
  {
   "cell_type": "code",
   "execution_count": 3,
   "metadata": {},
   "outputs": [],
   "source": [
    "from libs import is_lib_exists"
   ]
  },
  {
   "cell_type": "code",
   "execution_count": 4,
   "metadata": {},
   "outputs": [],
   "source": [
    "required_libs = [ (\"numpy\", \"numpy\"),\n",
    "                  (\"pandas\", \"pandas\"),\n",
    "                  (\"seaborn\", \"seaborn\"),\n",
    "                  (\"matplotlib\", \"matplotlib\"),\n",
    "                  (\"investpy\", \"investpy\"),\n",
    "                  (\"dateutil\", \"python-dateutil\"),\n",
    "                ]"
   ]
  },
  {
   "cell_type": "code",
   "execution_count": 5,
   "metadata": {},
   "outputs": [
    {
     "name": "stdout",
     "output_type": "stream",
     "text": [
      "numpy exists\n",
      "pandas exists\n",
      "seaborn exists\n",
      "matplotlib exists\n",
      "investpy exists\n",
      "python-dateutil exists\n"
     ]
    }
   ],
   "source": [
    "for (clz,lib) in required_libs:\n",
    "    if not is_lib_exists(clz):\n",
    "        print(f\"Installing {lib}\")\n",
    "        !pip install {lib}\n",
    "    else:\n",
    "        print(f\"{lib} exists\")"
   ]
  },
  {
   "cell_type": "code",
   "execution_count": 88,
   "metadata": {},
   "outputs": [],
   "source": [
    "#export\n",
    "import numpy as np\n",
    "import pandas as pd\n",
    "import seaborn as sns\n",
    "import matplotlib.pyplot as plt\n",
    "import investpy\n",
    "from pathlib import Path\n",
    "from dateutil.relativedelta import *\n",
    "from datetime import *\n",
    "import calendar\n",
    "import traceback"
   ]
  },
  {
   "cell_type": "code",
   "execution_count": 7,
   "metadata": {},
   "outputs": [],
   "source": [
    "%matplotlib inline"
   ]
  },
  {
   "cell_type": "code",
   "execution_count": 8,
   "metadata": {},
   "outputs": [],
   "source": [
    "# % - line, %% - cell\n",
    "# %run, %%timeit, %%writefile, %pycat\n",
    "# %who, %store\n",
    "# %html \n",
    "# %env, %pinfo\n",
    "# %lsmagic\n",
    "# %history\n",
    "# %prun\n",
    "# %%heat\n",
    "# https://github.com/lmmx/devnotes/wiki/IPython-'magic'-function-documentation#edit"
   ]
  },
  {
   "cell_type": "code",
   "execution_count": 9,
   "metadata": {},
   "outputs": [],
   "source": [
    "from IPython.display import display, Image"
   ]
  },
  {
   "cell_type": "markdown",
   "metadata": {},
   "source": [
    "# Finance Data\n",
    "\n",
    "> Functionality to gather finance data.\n",
    "\n",
    "The classes here provide bases classes used to gather finance data for model training."
   ]
  },
  {
   "cell_type": "code",
   "execution_count": 10,
   "metadata": {},
   "outputs": [],
   "source": [
    "#hide\n",
    "from nbdev.showdoc import *"
   ]
  },
  {
   "cell_type": "code",
   "execution_count": 91,
   "metadata": {},
   "outputs": [],
   "source": [
    "# Dataset path\n",
    "DATASET_PATH = Path(\"../../data\")  \n",
    "\n",
    "# Country to analyze\n",
    "COUNTRY = \"malaysia\"\n",
    "\n",
    "# Dataset\n",
    "DATASET = DATASET_PATH/f\"ftse_klse_investing.csv\"\n",
    "\n",
    "# Stocks summary\n",
    "DATASET_STOCKS_SUMMARY = DATASET_PATH/f\"stocks_summary.csv\""
   ]
  },
  {
   "cell_type": "markdown",
   "metadata": {},
   "source": [
    "## FTSE KLSE"
   ]
  },
  {
   "cell_type": "code",
   "execution_count": 12,
   "metadata": {},
   "outputs": [
    {
     "name": "stdout",
     "output_type": "stream",
     "text": [
      "<class 'pandas.core.frame.DataFrame'>\n",
      "RangeIndex: 929 entries, 0 to 928\n",
      "Data columns (total 6 columns):\n",
      " #   Column     Non-Null Count  Dtype \n",
      "---  ------     --------------  ----- \n",
      " 0   country    929 non-null    object\n",
      " 1   name       929 non-null    object\n",
      " 2   full_name  929 non-null    object\n",
      " 3   isin       929 non-null    object\n",
      " 4   currency   929 non-null    object\n",
      " 5   symbol     929 non-null    object\n",
      "dtypes: object(6)\n",
      "memory usage: 43.7+ KB\n"
     ]
    }
   ],
   "source": [
    "# Retrieve stock components\n",
    "dataset = investpy.get_stocks(country=COUNTRY)\n",
    "dataset.info()"
   ]
  },
  {
   "cell_type": "code",
   "execution_count": 13,
   "metadata": {},
   "outputs": [],
   "source": [
    "# Save the dataset\n",
    "dataset.to_csv(DATASET, index=False)\n",
    "\n",
    "#dataset = pd.read_csv(DATASET, header=0, sep=',', quotechar='\"')"
   ]
  },
  {
   "cell_type": "code",
   "execution_count": 14,
   "metadata": {},
   "outputs": [
    {
     "data": {
      "text/html": [
       "<div>\n",
       "<style scoped>\n",
       "    .dataframe tbody tr th:only-of-type {\n",
       "        vertical-align: middle;\n",
       "    }\n",
       "\n",
       "    .dataframe tbody tr th {\n",
       "        vertical-align: top;\n",
       "    }\n",
       "\n",
       "    .dataframe thead th {\n",
       "        text-align: right;\n",
       "    }\n",
       "</style>\n",
       "<table border=\"1\" class=\"dataframe\">\n",
       "  <thead>\n",
       "    <tr style=\"text-align: right;\">\n",
       "      <th></th>\n",
       "      <th>country</th>\n",
       "      <th>name</th>\n",
       "      <th>full_name</th>\n",
       "      <th>isin</th>\n",
       "      <th>currency</th>\n",
       "      <th>symbol</th>\n",
       "    </tr>\n",
       "  </thead>\n",
       "  <tbody>\n",
       "    <tr>\n",
       "      <th>0</th>\n",
       "      <td>malaysia</td>\n",
       "      <td>Media Chinese Int</td>\n",
       "      <td>Media Chinese International Ltd</td>\n",
       "      <td>BMG5959D1048</td>\n",
       "      <td>MYR</td>\n",
       "      <td>MDCH</td>\n",
       "    </tr>\n",
       "    <tr>\n",
       "      <th>1</th>\n",
       "      <td>malaysia</td>\n",
       "      <td>AMMB</td>\n",
       "      <td>AMMB Holdings Bhd</td>\n",
       "      <td>MYL1015OO006</td>\n",
       "      <td>MYR</td>\n",
       "      <td>AMMB</td>\n",
       "    </tr>\n",
       "    <tr>\n",
       "      <th>2</th>\n",
       "      <td>malaysia</td>\n",
       "      <td>CIMB Group</td>\n",
       "      <td>CIMB Group Holdings Bhd</td>\n",
       "      <td>MYL1023OO000</td>\n",
       "      <td>MYR</td>\n",
       "      <td>CIMB</td>\n",
       "    </tr>\n",
       "  </tbody>\n",
       "</table>\n",
       "</div>"
      ],
      "text/plain": [
       "    country               name                        full_name          isin  \\\n",
       "0  malaysia  Media Chinese Int  Media Chinese International Ltd  BMG5959D1048   \n",
       "1  malaysia               AMMB                AMMB Holdings Bhd  MYL1015OO006   \n",
       "2  malaysia         CIMB Group          CIMB Group Holdings Bhd  MYL1023OO000   \n",
       "\n",
       "  currency symbol  \n",
       "0      MYR   MDCH  \n",
       "1      MYR   AMMB  \n",
       "2      MYR   CIMB  "
      ]
     },
     "metadata": {},
     "output_type": "display_data"
    }
   ],
   "source": [
    "display(dataset.head(3))"
   ]
  },
  {
   "cell_type": "code",
   "execution_count": 15,
   "metadata": {},
   "outputs": [],
   "source": [
    "# Today's date\n",
    "TODAY = date.today()\n",
    "\n",
    "# Past 3 years\n",
    "PAST_3_YEARS = [ TODAY.year - y for y in range(1,4) ]\n",
    "\n",
    "# Expected YIELD %\n",
    "EXPECTED_YIELD_PERCENTAGE = 6"
   ]
  },
  {
   "cell_type": "code",
   "execution_count": 96,
   "metadata": {},
   "outputs": [
    {
     "name": "stdout",
     "output_type": "stream",
     "text": [
      "0. MDCH - Media Chinese Int\n",
      "1. AMMB - AMMB\n",
      "2. CIMB - CIMB Group\n",
      "3. RHBC - RHB Bank\n"
     ]
    }
   ],
   "source": [
    "def calculate_yield(idx, name, symbol):\n",
    "    \"\"\"Calculate stock yield based on latest close price\"\"\"\n",
    "    try:\n",
    "        df_dividends = investpy.get_stock_dividends(stock=symbol, country=COUNTRY)\n",
    "        #display(df_dividends)\n",
    "        df_dividends['Year'] = pd.DatetimeIndex(df_dividends['Date']).year\n",
    "        # Convert yield percentage to number\n",
    "        df_dividends['Historical Yield'] =  df_dividends['Yield'].apply(\\\n",
    "                                                     lambda y : \\\n",
    "                                                     float(y.translate(str.maketrans({',': '.', '%': '', '-':'0'}))))\n",
    "        \n",
    "        # Aggregate the dividends by years\n",
    "        df_dividends_summary = df_dividends.groupby(by=['Year'], sort=False, as_index=False).\\\n",
    "                                agg({'Dividend':'sum', 'Historical Yield':'sum', \\\n",
    "                                     'Date': lambda d: ','.join(d.dt.strftime('%Y-%m-%d'))})\n",
    "        # print(df_dividends.groupby(by=['Year'], sort=False, as_index=False))\n",
    "        # display(df_dividends_summary[df_dividends_summary['Year'].isin(PAST_3_YEARS)])\n",
    "        #display(df_dividends_summary)\n",
    "        \n",
    "        df_recent_data = investpy.get_stock_recent_data(stock=symbol, country=COUNTRY).reset_index()\n",
    "        last_close_price = df_recent_data[df_recent_data['Date'].eq(df_recent_data['Date'].max())]['Close'].values[0]\n",
    "        # display(f\"Recent price {last_close_price}\")\n",
    "        # display(df_recent_data)\n",
    "     \n",
    "        df_dividends_summary['Name'] = name\n",
    "        df_dividends_summary['Symbol'] = symbol\n",
    "        df_dividends_summary['Last Close Price'] = last_close_price\n",
    "        df_dividends_summary['Calculated Yield'] = df_dividends_summary['Dividend'] / last_close_price * 100\n",
    "       \n",
    "        # display(df_dividends_summary)\n",
    "        \n",
    "        # df_desired_returns = df_dividends_summary[\n",
    "        #                     (df_dividends_summary['Year'].isin(PAST_3_YEARS)) & \n",
    "        #                     (df_dividends_summary['Yield'] >= EXPECTED_YIELD_PERCENTAGE)]\n",
    "        # if len(df_desired_returns) == len(PAST_3_YEARS):\n",
    "        #     display(f\"{name} - {symbol} met expected yield\")\n",
    "        #     display(df_desired_returns)\n",
    "        \n",
    "        print(f'{idx}. {symbol} - {name}')\n",
    "        return df_dividends_summary\n",
    "            \n",
    "    except Exception as exception:\n",
    "        display(f\"Skipping {name} - {symbol}\")\n",
    "        traceback.print_exc()\n",
    "\n",
    "def summarize_stocks(df_summary, df):\n",
    "    \"\"\"Summarize the stock dividends details\"\"\"\n",
    "    if df_summary.empty:\n",
    "        return df\n",
    "    return df_summary.append(df)\n",
    "    \n",
    "    \n",
    "df_all_dividends = pd.DataFrame()\n",
    "START_INDEX = 0\n",
    "#df = calculate_yield(\"MBSS\", \"MBSS\")\n",
    "#df_all_dividends = summarize_stocks(df_all_dividends, df)\n",
    "for idx, row in dataset.iloc[START_INDEX:].iterrows():\n",
    "    name = row['name']\n",
    "    symbol = row['symbol']\n",
    "    df = calculate_yield(idx, name, symbol)\n",
    "    df_all_dividends = summarize_stocks(df_all_dividends, df)\n",
    "    if (idx == 3):\n",
    "        break\n",
    "\n",
    "# display(df_all_dividends)\n",
    "df_all_dividends.to_csv(DATASET_STOCKS_SUMMARY, index=False)"
   ]
  },
  {
   "cell_type": "code",
   "execution_count": null,
   "metadata": {},
   "outputs": [],
   "source": []
  },
  {
   "cell_type": "code",
   "execution_count": null,
   "metadata": {},
   "outputs": [],
   "source": []
  },
  {
   "cell_type": "code",
   "execution_count": null,
   "metadata": {},
   "outputs": [],
   "source": []
  },
  {
   "cell_type": "code",
   "execution_count": null,
   "metadata": {},
   "outputs": [],
   "source": []
  },
  {
   "cell_type": "code",
   "execution_count": null,
   "metadata": {},
   "outputs": [],
   "source": []
  }
 ],
 "metadata": {
  "kernelspec": {
   "display_name": "Python 3",
   "language": "python",
   "name": "python3"
  },
  "language_info": {
   "codemirror_mode": {
    "name": "ipython",
    "version": 3
   },
   "file_extension": ".py",
   "mimetype": "text/x-python",
   "name": "python",
   "nbconvert_exporter": "python",
   "pygments_lexer": "ipython3",
   "version": "3.7.6"
  },
  "toc-autonumbering": false,
  "toc-showcode": false,
  "toc-showmarkdowntxt": false,
  "toc-showtags": false
 },
 "nbformat": 4,
 "nbformat_minor": 4
}
