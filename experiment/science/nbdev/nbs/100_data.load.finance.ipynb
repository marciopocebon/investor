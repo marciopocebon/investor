{
 "cells": [
  {
   "cell_type": "code",
   "execution_count": 2,
   "metadata": {},
   "outputs": [],
   "source": [
    "# default_exp data.finance"
   ]
  },
  {
   "cell_type": "code",
   "execution_count": 3,
   "metadata": {},
   "outputs": [],
   "source": [
    "%load_ext autoreload\n",
    "%autoreload 2"
   ]
  },
  {
   "cell_type": "code",
   "execution_count": 4,
   "metadata": {},
   "outputs": [],
   "source": [
    "from libs import is_lib_exists"
   ]
  },
  {
   "cell_type": "code",
   "execution_count": 5,
   "metadata": {},
   "outputs": [],
   "source": [
    "required_libs = [ (\"numpy\", \"numpy\"),\n",
    "                  (\"pandas\", \"pandas\"),\n",
    "                  (\"seaborn\", \"seaborn\"),\n",
    "                  (\"matplotlib\", \"matplotlib\"),\n",
    "                  (\"investpy\", \"investpy\"),\n",
    "                  (\"dateutil\", \"python-dateutil\"),\n",
    "                ]"
   ]
  },
  {
   "cell_type": "code",
   "execution_count": 6,
   "metadata": {},
   "outputs": [
    {
     "name": "stdout",
     "output_type": "stream",
     "text": [
      "numpy exists\n",
      "pandas exists\n",
      "seaborn exists\n",
      "matplotlib exists\n",
      "investpy exists\n",
      "python-dateutil exists\n"
     ]
    }
   ],
   "source": [
    "for (clz,lib) in required_libs:\n",
    "    if not is_lib_exists(clz):\n",
    "        print(f\"Installing {lib}\")\n",
    "        !pip install {lib}\n",
    "    else:\n",
    "        print(f\"{lib} exists\")"
   ]
  },
  {
   "cell_type": "code",
   "execution_count": 7,
   "metadata": {},
   "outputs": [],
   "source": [
    "#export\n",
    "import numpy as np\n",
    "import pandas as pd\n",
    "import seaborn as sns\n",
    "import matplotlib.pyplot as plt\n",
    "import investpy\n",
    "from pathlib import Path\n",
    "from dateutil import relativedelta"
   ]
  },
  {
   "cell_type": "code",
   "execution_count": 8,
   "metadata": {},
   "outputs": [],
   "source": [
    "%matplotlib inline"
   ]
  },
  {
   "cell_type": "markdown",
   "metadata": {},
   "source": [
    "# Finance Data\n",
    "\n",
    "> Functionality to gather finance data.\n",
    "\n",
    "The classes here provide bases classes used to gather finance data for model training."
   ]
  },
  {
   "cell_type": "code",
   "execution_count": 9,
   "metadata": {},
   "outputs": [],
   "source": [
    "#hide\n",
    "from nbdev.showdoc import *"
   ]
  },
  {
   "cell_type": "code",
   "execution_count": 29,
   "metadata": {},
   "outputs": [],
   "source": [
    "# Dataset path\n",
    "DATASET_PATH = Path(\"../../data\")  \n",
    "\n",
    "# Country to analyze\n",
    "COUNTRY = \"malaysia\"\n",
    "\n",
    "# Dataset\n",
    "DATASET = DATASET_PATH/f\"ftse_klse_investing.csv\""
   ]
  },
  {
   "cell_type": "markdown",
   "metadata": {},
   "source": [
    "## FTSE KLSE"
   ]
  },
  {
   "cell_type": "code",
   "execution_count": 30,
   "metadata": {},
   "outputs": [
    {
     "name": "stdout",
     "output_type": "stream",
     "text": [
      "<class 'pandas.core.frame.DataFrame'>\n",
      "RangeIndex: 929 entries, 0 to 928\n",
      "Data columns (total 6 columns):\n",
      " #   Column     Non-Null Count  Dtype \n",
      "---  ------     --------------  ----- \n",
      " 0   country    929 non-null    object\n",
      " 1   name       929 non-null    object\n",
      " 2   full_name  929 non-null    object\n",
      " 3   isin       929 non-null    object\n",
      " 4   currency   929 non-null    object\n",
      " 5   symbol     929 non-null    object\n",
      "dtypes: object(6)\n",
      "memory usage: 43.7+ KB\n"
     ]
    }
   ],
   "source": [
    "# Retrieve stock components\n",
    "df_stocks = investpy.get_stocks(country=COUNTRY)\n",
    "df_stocks.info()"
   ]
  },
  {
   "cell_type": "code",
   "execution_count": 31,
   "metadata": {},
   "outputs": [],
   "source": [
    "df_stocks.to_csv(DATASET, index=False)"
   ]
  },
  {
   "cell_type": "code",
   "execution_count": 13,
   "metadata": {},
   "outputs": [],
   "source": [
    "#dataset = pd.read_csv(DATASET, header=0, sep=',', quotechar='\"')\n",
    "#dataset.info()"
   ]
  }
 ],
 "metadata": {
  "kernelspec": {
   "display_name": "Python 3",
   "language": "python",
   "name": "python3"
  },
  "language_info": {
   "codemirror_mode": {
    "name": "ipython",
    "version": 3
   },
   "file_extension": ".py",
   "mimetype": "text/x-python",
   "name": "python",
   "nbconvert_exporter": "python",
   "pygments_lexer": "ipython3",
   "version": "3.7.6"
  },
  "toc-autonumbering": false,
  "toc-showcode": false,
  "toc-showmarkdowntxt": false,
  "toc-showtags": false
 },
 "nbformat": 4,
 "nbformat_minor": 4
}
