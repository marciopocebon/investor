{
 "cells": [
  {
   "cell_type": "code",
   "execution_count": 1,
   "metadata": {},
   "outputs": [],
   "source": [
    "# default_exp data.finance.forecast3"
   ]
  },
  {
   "cell_type": "code",
   "execution_count": 2,
   "metadata": {},
   "outputs": [],
   "source": [
    "from IPython.core.interactiveshell import InteractiveShell\n",
    "InteractiveShell.ast_node_interactivity = \"all\""
   ]
  },
  {
   "cell_type": "code",
   "execution_count": 3,
   "metadata": {},
   "outputs": [],
   "source": [
    "%load_ext autoreload\n",
    "%autoreload 2"
   ]
  },
  {
   "cell_type": "code",
   "execution_count": 4,
   "metadata": {},
   "outputs": [],
   "source": [
    "from libs import is_lib_exists"
   ]
  },
  {
   "cell_type": "code",
   "execution_count": 7,
   "metadata": {},
   "outputs": [],
   "source": [
    "required_libs = [ (\"numpy\", \"numpy\"),\n",
    "                  (\"pandas\", \"pandas\"),\n",
    "                  (\"seaborn\", \"seaborn\"),\n",
    "                  (\"matplotlib\", \"matplotlib\"),\n",
    "                  (\"investpy\", \"investpy\"),\n",
    "                  (\"dateutil\", \"python-dateutil\"),\n",
    "                  (\"sktime\", \"sktime\"),\n",
    "                ]"
   ]
  },
  {
   "cell_type": "code",
   "execution_count": 8,
   "metadata": {},
   "outputs": [
    {
     "name": "stdout",
     "output_type": "stream",
     "text": [
      "numpy exists\n",
      "pandas exists\n",
      "seaborn exists\n",
      "matplotlib exists\n",
      "investpy exists\n",
      "python-dateutil exists\n",
      "sktime exists\n"
     ]
    }
   ],
   "source": [
    "for (clz,lib) in required_libs:\n",
    "    if not is_lib_exists(clz):\n",
    "        print(f\"Installing {lib}\")\n",
    "        !pip install -qq {lib}\n",
    "    else:\n",
    "        print(f\"{lib} exists\")"
   ]
  },
  {
   "cell_type": "code",
   "execution_count": 10,
   "metadata": {},
   "outputs": [],
   "source": [
    "#export\n",
    "import numpy as np\n",
    "import pandas as pd\n",
    "import seaborn as sns\n",
    "import matplotlib.pyplot as plt\n",
    "import investpy\n",
    "from pathlib import Path\n",
    "from dateutil.relativedelta import *\n",
    "from datetime import *\n",
    "import calendar\n",
    "import traceback\n",
    "import time"
   ]
  },
  {
   "cell_type": "code",
   "execution_count": 12,
   "metadata": {},
   "outputs": [],
   "source": [
    "from warnings import simplefilter\n",
    "\n",
    "from sktime.datasets import load_airline\n",
    "from sktime.forecasting.arima import AutoARIMA\n",
    "from sktime.forecasting.base import ForecastingHorizon\n",
    "from sktime.forecasting.compose import (\n",
    "    EnsembleForecaster,\n",
    "    ReducedRegressionForecaster,\n",
    "    TransformedTargetForecaster,\n",
    ")\n",
    "from sktime.forecasting.exp_smoothing import ExponentialSmoothing\n",
    "from sktime.forecasting.model_selection import (\n",
    "    ForecastingGridSearchCV,\n",
    "    SlidingWindowSplitter,\n",
    "    temporal_train_test_split,\n",
    ")\n",
    "from sktime.forecasting.naive import NaiveForecaster\n",
    "from sktime.forecasting.theta import ThetaForecaster\n",
    "from sktime.forecasting.trend import PolynomialTrendForecaster\n",
    "from sktime.performance_metrics.forecasting import sMAPE, smape_loss\n",
    "from sktime.transformers.series.detrend import Deseasonalizer, Detrender\n",
    "from sktime.utils.plotting import plot_series\n",
    "\n",
    "simplefilter(\"ignore\", FutureWarning)\n",
    "%matplotlib inline"
   ]
  },
  {
   "cell_type": "code",
   "execution_count": 14,
   "metadata": {},
   "outputs": [],
   "source": [
    "#%quickref\n",
    "#%magic\n",
    "#%env\n",
    "#%who_ls"
   ]
  },
  {
   "cell_type": "code",
   "execution_count": 15,
   "metadata": {},
   "outputs": [],
   "source": [
    "from IPython.display import display, Image"
   ]
  },
  {
   "cell_type": "markdown",
   "metadata": {},
   "source": [
    "# Prediction for Stock Trends\n",
    "\n",
    "> Predict future stock prices"
   ]
  },
  {
   "cell_type": "code",
   "execution_count": 16,
   "metadata": {},
   "outputs": [],
   "source": [
    "#hide\n",
    "from nbdev.showdoc import *"
   ]
  },
  {
   "cell_type": "code",
   "execution_count": 17,
   "metadata": {},
   "outputs": [],
   "source": [
    "# Dataset path\n",
    "DATASET_PATH = Path(\"../../data\")  \n",
    "\n",
    "# Country to analyze\n",
    "COUNTRY = \"malaysia\"\n",
    "\n",
    "# Dataset\n",
    "DATASET = DATASET_PATH/f\"ftse_klse_investing.csv\"\n",
    "\n",
    "# Stocks summary\n",
    "DATASET_STOCKS_SUMMARY = DATASET_PATH/f\"stocks_summary.csv\""
   ]
  },
  {
   "cell_type": "markdown",
   "metadata": {},
   "source": [
    "## FTSE KLSE"
   ]
  },
  {
   "cell_type": "code",
   "execution_count": 18,
   "metadata": {},
   "outputs": [
    {
     "name": "stdout",
     "output_type": "stream",
     "text": [
      "<class 'pandas.core.frame.DataFrame'>\n",
      "RangeIndex: 929 entries, 0 to 928\n",
      "Data columns (total 6 columns):\n",
      " #   Column     Non-Null Count  Dtype \n",
      "---  ------     --------------  ----- \n",
      " 0   country    929 non-null    object\n",
      " 1   name       929 non-null    object\n",
      " 2   full_name  929 non-null    object\n",
      " 3   isin       929 non-null    object\n",
      " 4   currency   929 non-null    object\n",
      " 5   symbol     929 non-null    object\n",
      "dtypes: object(6)\n",
      "memory usage: 43.7+ KB\n"
     ]
    }
   ],
   "source": [
    "# Retrieve stock components\n",
    "dataset = investpy.get_stocks(country=COUNTRY)\n",
    "dataset.info()"
   ]
  },
  {
   "cell_type": "code",
   "execution_count": 19,
   "metadata": {},
   "outputs": [],
   "source": [
    "# Save the dataset\n",
    "dataset.to_csv(DATASET, index=False)\n",
    "\n",
    "# dataset = pd.read_csv(DATASET, header=0, sep=',', quotechar='\"')"
   ]
  },
  {
   "cell_type": "code",
   "execution_count": 20,
   "metadata": {},
   "outputs": [
    {
     "name": "stdout",
     "output_type": "stream",
     "text": [
      "Number of stock - 929\n"
     ]
    },
    {
     "data": {
      "text/html": [
       "<div>\n",
       "<style scoped>\n",
       "    .dataframe tbody tr th:only-of-type {\n",
       "        vertical-align: middle;\n",
       "    }\n",
       "\n",
       "    .dataframe tbody tr th {\n",
       "        vertical-align: top;\n",
       "    }\n",
       "\n",
       "    .dataframe thead th {\n",
       "        text-align: right;\n",
       "    }\n",
       "</style>\n",
       "<table border=\"1\" class=\"dataframe\">\n",
       "  <thead>\n",
       "    <tr style=\"text-align: right;\">\n",
       "      <th></th>\n",
       "      <th>country</th>\n",
       "      <th>name</th>\n",
       "      <th>full_name</th>\n",
       "      <th>isin</th>\n",
       "      <th>currency</th>\n",
       "      <th>symbol</th>\n",
       "    </tr>\n",
       "  </thead>\n",
       "  <tbody>\n",
       "    <tr>\n",
       "      <th>0</th>\n",
       "      <td>malaysia</td>\n",
       "      <td>Media Chinese Int</td>\n",
       "      <td>Media Chinese International Ltd</td>\n",
       "      <td>BMG5959D1048</td>\n",
       "      <td>MYR</td>\n",
       "      <td>MDCH</td>\n",
       "    </tr>\n",
       "    <tr>\n",
       "      <th>1</th>\n",
       "      <td>malaysia</td>\n",
       "      <td>AMMB</td>\n",
       "      <td>AMMB Holdings Bhd</td>\n",
       "      <td>MYL1015OO006</td>\n",
       "      <td>MYR</td>\n",
       "      <td>AMMB</td>\n",
       "    </tr>\n",
       "    <tr>\n",
       "      <th>2</th>\n",
       "      <td>malaysia</td>\n",
       "      <td>CIMB Group</td>\n",
       "      <td>CIMB Group Holdings Bhd</td>\n",
       "      <td>MYL1023OO000</td>\n",
       "      <td>MYR</td>\n",
       "      <td>CIMB</td>\n",
       "    </tr>\n",
       "  </tbody>\n",
       "</table>\n",
       "</div>"
      ],
      "text/plain": [
       "    country               name                        full_name          isin  \\\n",
       "0  malaysia  Media Chinese Int  Media Chinese International Ltd  BMG5959D1048   \n",
       "1  malaysia               AMMB                AMMB Holdings Bhd  MYL1015OO006   \n",
       "2  malaysia         CIMB Group          CIMB Group Holdings Bhd  MYL1023OO000   \n",
       "\n",
       "  currency symbol  \n",
       "0      MYR   MDCH  \n",
       "1      MYR   AMMB  \n",
       "2      MYR   CIMB  "
      ]
     },
     "metadata": {},
     "output_type": "display_data"
    }
   ],
   "source": [
    "print(f\"Number of stock - {len(dataset)}\")\n",
    "display(dataset.head(3))"
   ]
  },
  {
   "cell_type": "code",
   "execution_count": 21,
   "metadata": {},
   "outputs": [
    {
     "name": "stdout",
     "output_type": "stream",
     "text": [
      "1/3/2019 07/11/2020\n"
     ]
    }
   ],
   "source": [
    "FROM_DATE = '1/3/2019'\n",
    "\n",
    "TO_DATE = datetime.strftime(date.today(), '%d/%m/%Y')\n",
    "#TO_DATE=\"30/9/2020\"\n",
    "\n",
    "TEST_DATE = \"2020-10-01\"\n",
    "\n",
    "END_DATE = \"2020-12-31\"\n",
    "\n",
    "STOCKS = ['AMMB','Axiata','CIMB Group','Dialog','DiGi.Com','Genting','Genting Malaysia','Hap Seng Consolidated','Hartalega','Hong Leong Bank','Hong Leong Financial','IHH Healthcare','IOI Corp','Kuala Lumpur Kepong','Malayan Banking','Malaysia Airport','Maxis','MISC','Nestle','Petronas Chemicals','Petronas Dagangan','Petronas Gas','PPB','Press Metal Bhd','Public Bank','RHB Bank','Sime Darby','Sime Darby Plantation','Tenaga Nasional','Top Glove Corp']\n",
    "\n",
    "print(FROM_DATE, TO_DATE)"
   ]
  },
  {
   "cell_type": "code",
   "execution_count": 69,
   "metadata": {},
   "outputs": [],
   "source": [
    "stock_code=\"MBBM\"\n",
    "\n",
    "df_prices = investpy.get_stock_historical_data(stock=stock_code,\n",
    "                                        country=COUNTRY,\n",
    "                                        from_date=FROM_DATE,\n",
    "                                        to_date=TO_DATE)"
   ]
  },
  {
   "cell_type": "code",
   "execution_count": 78,
   "metadata": {},
   "outputs": [
    {
     "data": {
      "text/plain": [
       "ExponentialSmoothing(trend='add')"
      ]
     },
     "execution_count": 78,
     "metadata": {},
     "output_type": "execute_result"
    },
    {
     "data": {
      "text/plain": [
       "(<Figure size 1152x288 with 1 Axes>, <AxesSubplot:ylabel='y'>)"
      ]
     },
     "execution_count": 78,
     "metadata": {},
     "output_type": "execute_result"
    },
    {
     "data": {
      "text/plain": [
       "0.010620588405295162"
      ]
     },
     "execution_count": 78,
     "metadata": {},
     "output_type": "execute_result"
    },
    {
     "data": {
      "image/png": "[encoded data removed]",
      "text/plain": [
       "<Figure size 1152x288 with 1 Axes>"
      ]
     },
     "metadata": {
      "needs_background": "light"
     },
     "output_type": "display_data"
    }
   ],
   "source": [
    "df = df_prices.asfreq(\"D\", method='ffill')\n",
    "df = df[['Close']].copy()\n",
    "df.rename(columns={'Close': 'y'}, inplace=True)\n",
    "df = df['y']\n",
    "# df_train = df[df.index < TEST_DATE]['y']\n",
    "# df_test = df[df.index >= TEST_DATE]['y']\n",
    "# df_train, df_test\n",
    "\n",
    "y_train, y_test = temporal_train_test_split(df, test_size=36)\n",
    "#plot_series(y_train, y_test, labels=[\"y_train\", \"y_test\"])\n",
    "#print(y_train.shape[0], y_test.shape[0])\n",
    "\n",
    "fh = np.arange(len(y_test)) + 1\n",
    "#len(fh)\n",
    "\n",
    "forecaster = ExponentialSmoothing(trend=\"add\") #, seasonal=\"multiplicative\", sp=12)\n",
    "forecaster.fit(y_train)\n",
    "y_pred = forecaster.predict(fh)\n",
    "plot_series(y_train, y_test, y_pred, labels=[\"y_train\", \"y_test\", \"y_pred\"])\n",
    "smape_loss(y_test, y_pred)\n"
   ]
  },
  {
   "cell_type": "code",
   "execution_count": 22,
   "metadata": {},
   "outputs": [],
   "source": [
    "#for name in STOCKS:\n",
    "#    df_stock = dataset[dataset['name'] == name]\n",
    "#    stock_name, stock_code = df_stock.iloc[0]['name'], df_stock.iloc[0]['symbol']\n",
    "#    print(f\"{stock_name} - {stock_code}\")\n",
    "#    print(\"-\" * 25)\n",
    "#    \n",
    "#    # Get stock prices\n",
    "#    df = investpy.get_stock_historical_data(stock=stock_code,\n",
    "#                                            country=COUNTRY,\n",
    "#                                            from_date=FROM_DATE,\n",
    "#                                            to_date=TO_DATE)\n",
    "#    df.reset_index(inplace=True)\n",
    "#    df = df[['Date','Close']].copy()\n",
    "#    df.rename(columns={'Date': 'ds', 'Close': 'y'}, inplace=True)\n",
    "#    df_train = df[df['ds'] < TEST_DATE]\n",
    "#    df_test = df[df['ds'] >= TEST_DATE]\n",
    "#    \n",
    "#    # Train\n",
    "#    model = Prophet()\n",
    "#    #dtf, model = fit_prophet(df_train, df_test, model=model, freq=\"D\", figsize=(20,15))\n",
    "#    future = forecast_prophet(df, model, end=END_DATE, freq=\"D\", zoom=20, figsize=(15,5))\n",
    "#    \n",
    "#    time.sleep(3)"
   ]
  },
  {
   "cell_type": "code",
   "execution_count": null,
   "metadata": {},
   "outputs": [],
   "source": []
  }
 ],
 "metadata": {
  "kernelspec": {
   "display_name": "Python 3",
   "language": "python",
   "name": "python3"
  },
  "language_info": {
   "codemirror_mode": {
    "name": "ipython",
    "version": 3
   },
   "file_extension": ".py",
   "mimetype": "text/x-python",
   "name": "python",
   "nbconvert_exporter": "python",
   "pygments_lexer": "ipython3",
   "version": "3.8.3"
  },
  "toc-autonumbering": false,
  "toc-showcode": false,
  "toc-showmarkdowntxt": false,
  "toc-showtags": false
 },
 "nbformat": 4,
 "nbformat_minor": 4
}
